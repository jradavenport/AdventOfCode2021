{
 "cells": [
  {
   "cell_type": "code",
   "execution_count": 20,
   "id": "43d6feb3",
   "metadata": {},
   "outputs": [],
   "source": [
    "%matplotlib notebook\n",
    "import numpy as np\n",
    "import matplotlib.pyplot as plt\n",
    "import pandas as pd\n",
    "from scipy import stats"
   ]
  },
  {
   "cell_type": "code",
   "execution_count": 2,
   "id": "5d4e6114",
   "metadata": {},
   "outputs": [],
   "source": [
    "# import matplotlib\n",
    "# matplotlib.rcParams.update({'font.size':18})\n",
    "# matplotlib.rcParams.update({'font.family':'serif'})\n",
    "\n",
    "# https://github.com/dhaitz/mplcyberpunk\n",
    "import mplcyberpunk\n",
    "plt.style.use(\"cyberpunk\")"
   ]
  },
  {
   "cell_type": "code",
   "execution_count": 12,
   "id": "4ced2623",
   "metadata": {},
   "outputs": [
    {
     "data": {
      "text/plain": [
       "0      111011110101\n",
       "1      011000111010\n",
       "2      100000010010\n",
       "3      000111100110\n",
       "4      110011111011\n",
       "           ...     \n",
       "995    111111111110\n",
       "996    100001100110\n",
       "997    001110001101\n",
       "998    100111100101\n",
       "999    001101100001\n",
       "Name: dr, Length: 1000, dtype: object"
      ]
     },
     "execution_count": 12,
     "metadata": {},
     "output_type": "execute_result"
    }
   ],
   "source": [
    "file = 'input.txt'\n",
    "df = pd.read_table(file, names=['dr'], delim_whitespace=True, dtype={'dr': object})\n",
    "df['dr']"
   ]
  },
  {
   "cell_type": "markdown",
   "id": "6b6b30a5",
   "metadata": {},
   "source": [
    "## Puzzle 1"
   ]
  },
  {
   "cell_type": "code",
   "execution_count": 14,
   "id": "455c37a6",
   "metadata": {},
   "outputs": [
    {
     "data": {
      "text/plain": [
       "12"
      ]
     },
     "execution_count": 14,
     "metadata": {},
     "output_type": "execute_result"
    }
   ],
   "source": [
    "len(df['dr'][0])"
   ]
  },
  {
   "cell_type": "code",
   "execution_count": 17,
   "id": "074f375d",
   "metadata": {},
   "outputs": [
    {
     "data": {
      "text/plain": [
       "0      1\n",
       "1      0\n",
       "2      1\n",
       "3      0\n",
       "4      1\n",
       "      ..\n",
       "995    1\n",
       "996    1\n",
       "997    0\n",
       "998    1\n",
       "999    0\n",
       "Name: dr, Length: 1000, dtype: int64"
      ]
     },
     "execution_count": 17,
     "metadata": {},
     "output_type": "execute_result"
    }
   ],
   "source": [
    "df['dr'].str[0].astype('int')"
   ]
  },
  {
   "cell_type": "code",
   "execution_count": 35,
   "id": "63457050",
   "metadata": {},
   "outputs": [
    {
     "name": "stdout",
     "output_type": "stream",
     "text": [
      "000010110001\n",
      "177\n"
     ]
    }
   ],
   "source": [
    "# compute gamma\n",
    "gamma=''\n",
    "for k in range(len(df['dr'][0])):\n",
    "#     print(sum(df['dr'].str[k].astype('int')), stats.mode(df['dr'].str[k].values))\n",
    "    gamma = gamma + str(stats.mode(df['dr'].str[k].astype('int').values)[0][0])\n",
    "print(gamma)\n",
    "print(int(gamma,2))"
   ]
  },
  {
   "cell_type": "code",
   "execution_count": 52,
   "id": "cdb4d348",
   "metadata": {},
   "outputs": [
    {
     "name": "stdout",
     "output_type": "stream",
     "text": [
      "000010110001\n",
      "111101001110\n"
     ]
    }
   ],
   "source": [
    "# compute gamma & epsilon\n",
    "gamma = ''\n",
    "epsilon = ''\n",
    "for k in range(len(df['dr'][0])):\n",
    "    # np.unique returns the unique numbers, and the counts of each (uu, nn)\n",
    "    uu, nn = np.unique(df['dr'].str[k].astype('int'), return_counts=True)\n",
    "    gamma = gamma + str(uu[np.argmax(nn)])\n",
    "    epsilon = epsilon + str(uu[np.argmin(nn)])\n",
    "\n",
    "print(gamma)\n",
    "print(epsilon)"
   ]
  },
  {
   "cell_type": "code",
   "execution_count": 53,
   "id": "409f7fd0",
   "metadata": {},
   "outputs": [
    {
     "data": {
      "text/plain": [
       "693486"
      ]
     },
     "execution_count": 53,
     "metadata": {},
     "output_type": "execute_result"
    }
   ],
   "source": [
    "int(gamma,2) * int(epsilon,2)"
   ]
  },
  {
   "cell_type": "markdown",
   "id": "eb3d231b",
   "metadata": {},
   "source": [
    "## Puzzle 2"
   ]
  },
  {
   "cell_type": "code",
   "execution_count": 109,
   "id": "0a9770ed",
   "metadata": {},
   "outputs": [
    {
     "name": "stdout",
     "output_type": "stream",
     "text": [
      "['0' '1'] [5 7]\n",
      "['11110' '10110' '10111' '10101' '11100' '10000' '11001']\n",
      "['0' '1'] [4 3]\n",
      "['10110' '10111' '10101' '10000']\n",
      "['0' '1'] [1 3]\n",
      "['10110' '10111' '10101']\n",
      "['0' '1'] [1 2]\n",
      "['10110' '10111']\n",
      "['0' '1'] [1 1]\n",
      "['10111']\n"
     ]
    }
   ],
   "source": [
    "test = pd.DataFrame(data={'dr':['00100',\n",
    "'11110',\n",
    "'10110',\n",
    "'10111',\n",
    "'10101',\n",
    "'01111',\n",
    "'00111',\n",
    "'11100',\n",
    "'10000',\n",
    "'11001',\n",
    "'00010',\n",
    "'01010']})\n",
    "\n",
    "\n",
    "keep1 = np.ones(len(test), dtype='bool')\n",
    "keep2 = np.ones(len(test), dtype='bool')\n",
    "\n",
    "for k in range(len(test['dr'][0])):\n",
    "\n",
    "    #     uu, nn = np.unique(test['dr'][keep1].str[k].astype('str'), return_counts=True)\n",
    "    if sum(keep1) > 1:\n",
    "        uu, nn = np.unique(test['dr'].str[k].astype('str')[keep1].values, return_counts=True)\n",
    "        ss = np.argsort(uu)[::-1] # reverse sort\n",
    "        keep1 = keep1 * (test['dr'].str[k].astype('str').values == uu[ss][np.argmax(nn[ss])])\n",
    "        print(uu,nn)\n",
    "        print(test['dr'][keep1].values)\n",
    "\n",
    "    if sum(keep2) > 1:\n",
    "        uu, nn = np.unique(test['dr'][keep2].str[k].astype('str'), return_counts=True)\n",
    "        keep2 = keep2 * (test['dr'].str[k].astype('str').values == uu[np.argmin(nn)])\n",
    "#         print(keep2)\n",
    "\n",
    "# print(test['dr'][keep1].values, test['dr'][keep2].values)\n"
   ]
  },
  {
   "cell_type": "code",
   "execution_count": 113,
   "id": "809080ab",
   "metadata": {},
   "outputs": [
    {
     "name": "stdout",
     "output_type": "stream",
     "text": [
      "933 3622\n"
     ]
    }
   ],
   "source": [
    "# oxygen & co2 rating\n",
    "keep1 = np.ones(len(df), dtype='bool')\n",
    "keep2 = np.ones(len(df), dtype='bool')\n",
    "\n",
    "for k in range(len(df['dr'][0])):\n",
    "    if sum(keep1) > 1:\n",
    "        uu, nn = np.unique(df['dr'].str[k].astype('str')[keep1].values, return_counts=True)\n",
    "        ss = np.argsort(uu)[::-1] # reverse sort\n",
    "        keep1 = keep1 * (df['dr'].str[k].astype('str').values == uu[ss][np.argmax(nn[ss])])\n",
    "\n",
    "    if sum(keep2) > 1:\n",
    "        uu, nn = np.unique(df['dr'].str[k].astype('str')[keep2].values, return_counts=True)\n",
    "        ss = np.argsort(uu)\n",
    "        keep2 = keep2 * (df['dr'].str[k].astype('str').values == uu[ss][np.argmin(nn[ss])])\n",
    "\n",
    "\n",
    "    \n",
    "oxygen = int(df['dr'][keep1].values[0],2)\n",
    "co2 = int(df['dr'][keep2].values[0],2)\n",
    "print(oxygen, co2)"
   ]
  },
  {
   "cell_type": "code",
   "execution_count": 114,
   "id": "470297e3",
   "metadata": {},
   "outputs": [
    {
     "name": "stdout",
     "output_type": "stream",
     "text": [
      "3379326\n"
     ]
    }
   ],
   "source": [
    "print(oxygen * co2)"
   ]
  },
  {
   "cell_type": "code",
   "execution_count": null,
   "id": "75ec6570",
   "metadata": {},
   "outputs": [],
   "source": []
  }
 ],
 "metadata": {
  "kernelspec": {
   "display_name": "Python 3",
   "language": "python",
   "name": "python3"
  },
  "language_info": {
   "codemirror_mode": {
    "name": "ipython",
    "version": 3
   },
   "file_extension": ".py",
   "mimetype": "text/x-python",
   "name": "python",
   "nbconvert_exporter": "python",
   "pygments_lexer": "ipython3",
   "version": "3.8.5"
  }
 },
 "nbformat": 4,
 "nbformat_minor": 5
}
