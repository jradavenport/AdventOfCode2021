{
 "cells": [
  {
   "cell_type": "code",
   "execution_count": 1,
   "id": "43d6feb3",
   "metadata": {},
   "outputs": [],
   "source": [
    "%matplotlib notebook\n",
    "import numpy as np\n",
    "import matplotlib.pyplot as plt\n",
    "import pandas as pd\n",
    "from scipy import stats"
   ]
  },
  {
   "cell_type": "code",
   "execution_count": 2,
   "id": "5d4e6114",
   "metadata": {},
   "outputs": [],
   "source": [
    "# import matplotlib\n",
    "# matplotlib.rcParams.update({'font.size':18})\n",
    "# matplotlib.rcParams.update({'font.family':'serif'})\n",
    "\n",
    "# https://github.com/dhaitz/mplcyberpunk\n",
    "import mplcyberpunk\n",
    "plt.style.use(\"cyberpunk\")"
   ]
  },
  {
   "cell_type": "markdown",
   "id": "6b6b30a5",
   "metadata": {},
   "source": [
    "## Puzzle 1"
   ]
  },
  {
   "cell_type": "code",
   "execution_count": 65,
   "id": "0fcd918f",
   "metadata": {},
   "outputs": [
    {
     "data": {
      "text/html": [
       "<div>\n",
       "<style scoped>\n",
       "    .dataframe tbody tr th:only-of-type {\n",
       "        vertical-align: middle;\n",
       "    }\n",
       "\n",
       "    .dataframe tbody tr th {\n",
       "        vertical-align: top;\n",
       "    }\n",
       "\n",
       "    .dataframe thead th {\n",
       "        text-align: right;\n",
       "    }\n",
       "</style>\n",
       "<table border=\"1\" class=\"dataframe\">\n",
       "  <thead>\n",
       "    <tr style=\"text-align: right;\">\n",
       "      <th></th>\n",
       "      <th>input</th>\n",
       "      <th>output</th>\n",
       "    </tr>\n",
       "  </thead>\n",
       "  <tbody>\n",
       "    <tr>\n",
       "      <th>0</th>\n",
       "      <td>begfcd fabg aecgbdf cefagb edgcba eacbf efgbc ...</td>\n",
       "      <td>cbgef befdcg bceaf fagb</td>\n",
       "    </tr>\n",
       "    <tr>\n",
       "      <th>1</th>\n",
       "      <td>cfdegb bdefca ac becdf cefagd bfac cfegbad aeg...</td>\n",
       "      <td>ca dgfaec gbdae agcdfe</td>\n",
       "    </tr>\n",
       "    <tr>\n",
       "      <th>2</th>\n",
       "      <td>dfegbc dea cabdefg efdgca fgabed dgeac cgadb g...</td>\n",
       "      <td>dfecg feca bgcad ebgfcd</td>\n",
       "    </tr>\n",
       "    <tr>\n",
       "      <th>3</th>\n",
       "      <td>cdbag ca gdbae cga acfd cabdefg bgfcad eabcgf ...</td>\n",
       "      <td>cagbd gadcb gacbd dbagfc</td>\n",
       "    </tr>\n",
       "    <tr>\n",
       "      <th>4</th>\n",
       "      <td>facedg begfac efdga ag cefadbg gacd bdgefc afg...</td>\n",
       "      <td>fag ebcgfd gfeda afg</td>\n",
       "    </tr>\n",
       "    <tr>\n",
       "      <th>...</th>\n",
       "      <td>...</td>\n",
       "      <td>...</td>\n",
       "    </tr>\n",
       "    <tr>\n",
       "      <th>195</th>\n",
       "      <td>gf fadce fag bcgad bcfg fdcga abdfeg gdfacb de...</td>\n",
       "      <td>cdaegb feacd fbgc eafdcgb</td>\n",
       "    </tr>\n",
       "    <tr>\n",
       "      <th>196</th>\n",
       "      <td>ebgdca fedgab fdcab acdegfb cabdfe fda acbde a...</td>\n",
       "      <td>bfgeda deabc bdeca ecadb</td>\n",
       "    </tr>\n",
       "    <tr>\n",
       "      <th>197</th>\n",
       "      <td>fbedcg cf cabdg dgcebaf cfg efcb aegfcd fbdcg ...</td>\n",
       "      <td>ebcf fc gbfcd cdfbge</td>\n",
       "    </tr>\n",
       "    <tr>\n",
       "      <th>198</th>\n",
       "      <td>def fd fedga ebdcaf fgbd cbgeafd cabdeg edfbga...</td>\n",
       "      <td>cagdbe fbgaecd afgce fde</td>\n",
       "    </tr>\n",
       "    <tr>\n",
       "      <th>199</th>\n",
       "      <td>cefba bafde fbgdec dagb dae gfdeab geafcd ebfg...</td>\n",
       "      <td>aefbd eda adebgf da</td>\n",
       "    </tr>\n",
       "  </tbody>\n",
       "</table>\n",
       "<p>200 rows × 2 columns</p>\n",
       "</div>"
      ],
      "text/plain": [
       "                                                 input  \\\n",
       "0    begfcd fabg aecgbdf cefagb edgcba eacbf efgbc ...   \n",
       "1    cfdegb bdefca ac becdf cefagd bfac cfegbad aeg...   \n",
       "2    dfegbc dea cabdefg efdgca fgabed dgeac cgadb g...   \n",
       "3    cdbag ca gdbae cga acfd cabdefg bgfcad eabcgf ...   \n",
       "4    facedg begfac efdga ag cefadbg gacd bdgefc afg...   \n",
       "..                                                 ...   \n",
       "195  gf fadce fag bcgad bcfg fdcga abdfeg gdfacb de...   \n",
       "196  ebgdca fedgab fdcab acdegfb cabdfe fda acbde a...   \n",
       "197  fbedcg cf cabdg dgcebaf cfg efcb aegfcd fbdcg ...   \n",
       "198  def fd fedga ebdcaf fgbd cbgeafd cabdeg edfbga...   \n",
       "199  cefba bafde fbgdec dagb dae gfdeab geafcd ebfg...   \n",
       "\n",
       "                         output  \n",
       "0       cbgef befdcg bceaf fagb  \n",
       "1        ca dgfaec gbdae agcdfe  \n",
       "2       dfecg feca bgcad ebgfcd  \n",
       "3      cagbd gadcb gacbd dbagfc  \n",
       "4          fag ebcgfd gfeda afg  \n",
       "..                          ...  \n",
       "195   cdaegb feacd fbgc eafdcgb  \n",
       "196    bfgeda deabc bdeca ecadb  \n",
       "197        ebcf fc gbfcd cdfbge  \n",
       "198    cagdbe fbgaecd afgce fde  \n",
       "199         aefbd eda adebgf da  \n",
       "\n",
       "[200 rows x 2 columns]"
      ]
     },
     "execution_count": 65,
     "metadata": {},
     "output_type": "execute_result"
    }
   ],
   "source": [
    "df = pd.read_table('input.txt', delimiter='|', names=['input', 'output'])\n",
    "# df = pd.read_table('test.txt', delimiter='|', names=['input', 'output'])\n",
    "df"
   ]
  },
  {
   "cell_type": "code",
   "execution_count": 67,
   "id": "9864443d",
   "metadata": {},
   "outputs": [
    {
     "data": {
      "text/plain": [
       "367"
      ]
     },
     "execution_count": 67,
     "metadata": {},
     "output_type": "execute_result"
    }
   ],
   "source": [
    "# we need to find how many entries have \"unique values\", so lengths of\n",
    "# [2,3,4,7], corresponding to digits [1,7,4,8] respectively\n",
    "\n",
    "dfcnt = df['output'].str.strip().str.split(expand=True)#.apply(lambda x : len(x))\n",
    "# tried some pandas tricks... couldnt get str len to work across columns... just do it manually \n",
    "\n",
    "for k in range(dfcnt.shape[1]):\n",
    "    # count the length of the strings\n",
    "    dfcnt[k] = dfcnt[k].str.len()\n",
    "    # see if they're in the magic list\n",
    "    dfcnt[k] = dfcnt[k].apply(lambda x : x in [2,3,4,7])\n",
    "\n",
    "dfcnt.sum(axis=0).sum()"
   ]
  },
  {
   "cell_type": "code",
   "execution_count": null,
   "id": "34d2e4ca",
   "metadata": {},
   "outputs": [],
   "source": []
  },
  {
   "cell_type": "markdown",
   "id": "eb3d231b",
   "metadata": {},
   "source": [
    "## Puzzle 2"
   ]
  },
  {
   "cell_type": "code",
   "execution_count": 71,
   "id": "a0d278f6",
   "metadata": {},
   "outputs": [
    {
     "data": {
      "text/html": [
       "<div>\n",
       "<style scoped>\n",
       "    .dataframe tbody tr th:only-of-type {\n",
       "        vertical-align: middle;\n",
       "    }\n",
       "\n",
       "    .dataframe tbody tr th {\n",
       "        vertical-align: top;\n",
       "    }\n",
       "\n",
       "    .dataframe thead th {\n",
       "        text-align: right;\n",
       "    }\n",
       "</style>\n",
       "<table border=\"1\" class=\"dataframe\">\n",
       "  <thead>\n",
       "    <tr style=\"text-align: right;\">\n",
       "      <th></th>\n",
       "      <th>input</th>\n",
       "      <th>output</th>\n",
       "    </tr>\n",
       "  </thead>\n",
       "  <tbody>\n",
       "    <tr>\n",
       "      <th>0</th>\n",
       "      <td>acedgfb cdfbe gcdfa fbcad dab cefabd cdfgeb ea...</td>\n",
       "      <td>cdfeb fcadb cdfeb cdbaf</td>\n",
       "    </tr>\n",
       "  </tbody>\n",
       "</table>\n",
       "</div>"
      ],
      "text/plain": [
       "                                               input                    output\n",
       "0  acedgfb cdfbe gcdfa fbcad dab cefabd cdfgeb ea...   cdfeb fcadb cdfeb cdbaf"
      ]
     },
     "execution_count": 71,
     "metadata": {},
     "output_type": "execute_result"
    }
   ],
   "source": [
    "df = pd.DataFrame(data={'input':['acedgfb cdfbe gcdfa fbcad dab cefabd cdfgeb eafb cagedb ab '], \n",
    "                        'output':[' cdfeb fcadb cdfeb cdbaf']})\n",
    "# df = pd.read_table('test.txt', delimiter='|', names=['input', 'output'])\n",
    "# df = pd.read_table('input.txt', delimiter='|', names=['input', 'output'])\n",
    "\n",
    "# now lets decode the output column\n",
    "# df['output'].str.strip().str.split(expand=True)\n",
    "df"
   ]
  },
  {
   "cell_type": "markdown",
   "id": "f724691d",
   "metadata": {},
   "source": [
    "## This is one approach... now code it!\n",
    "\n",
    "acedgfb: 8\n",
    "ab: 1\n",
    "dab: 7, A=d\n",
    "eafb: 4\n",
    "\n",
    "[2,3,5]\n",
    "cdfbe: 5\n",
    "gcdfa: 2\n",
    "fbcad:  3\n",
    "[0,6,9]\n",
    "cefabd: 9\n",
    "cdfgeb: 6\n",
    "cagedb: 0\n",
    "\n",
    "9 is 4 + A + X, cefabd\n",
    "3 is 1 + A + G + X, abdcf\n",
    "0 has no D, cagedb\n",
    "6 the last 6-digit one, solving C/F degeneracy\n",
    "\n",
    "can then read off 2,5\n",
    "\n",
    "````  \n",
    " AAAA    dddd\n",
    "B    C  e    a\n",
    "B    C  e    a\n",
    " DDDD    ffff\n",
    "E    F  g    b\n",
    "E    F  g    b\n",
    " GGGG    cccc\n",
    "````"
   ]
  },
  {
   "cell_type": "code",
   "execution_count": 186,
   "id": "959ce94a",
   "metadata": {},
   "outputs": [],
   "source": [
    "def SOLVEIT(input):\n",
    "    # input = df['input'].str.strip()[k].split(' ')\n",
    "    ins = np.array(input, dtype=str)\n",
    "    nums = pd.Series(input).str.len()\n",
    "    # ins =   np.array(df['input'].str.strip()[0].split(' '), dtype=str)\n",
    "    # nums = pd.Series(df['input'].str.strip()[0].split(' ')).str.len()\n",
    "    # 1,7,4,8 are determined by str len directly\n",
    "\n",
    "    n1 = ins[nums == 2][0]\n",
    "    n7 = ins[nums == 3][0]\n",
    "    n4 = ins[nums == 4][0]\n",
    "    n8 = ins[nums == 7][0]\n",
    "\n",
    "    x5 = np.where(nums == 5)[0] # [2,3,5]\n",
    "    x6 = np.where(nums == 6)[0] # [0,6,9]\n",
    "\n",
    "    # find A\n",
    "    # loop over digits of 7\n",
    "    for k in range(3):\n",
    "        # which digit of 7 isnt in 1\n",
    "        if not n7[k] in n1:\n",
    "            # that digit is A\n",
    "            A = n7[k]\n",
    "\n",
    "    # find the number 9: 4 + A + (G)\n",
    "    for j in x6: # look at all 6-digit entries\n",
    "        # test if they contain the digits of 4 and A\n",
    "        if n4[0] in ins[j] and n4[1] in ins[j] and n4[2] in ins[j] and n4[3] in ins[j]:\n",
    "            n9 = ins[j]\n",
    "            for k in range(len(n9)):\n",
    "                if not n9[k] in n4+A:\n",
    "                    G = n9[k]\n",
    "\n",
    "    # find the number 3: 1+A+G+X\n",
    "    for j in x5:\n",
    "        if (n1[0] in ins[j] and n1[1] in ins[j] and A in ins[j] and G in ins[j]):\n",
    "            n3 = ins[j]\n",
    "            for k in range(len(n3)):\n",
    "                if not n3[k] in n1+A+G:\n",
    "                    D = n3[k]\n",
    "\n",
    "    # find 0, the only entry w/o a D\n",
    "    for j in x6:\n",
    "        if not D in ins[j]:\n",
    "            n0 = ins[j]\n",
    "\n",
    "    # find 6, the only remaining 6-digit entry\n",
    "    n6 = ins[x6[np.where((ins[x6] != n0) & (ins[x6] != n9))[0]]][0]\n",
    "    # now solve the CF degeneracy from 1 w/ 6\n",
    "    if n1[0] in n6:\n",
    "        C = n1[1]\n",
    "        F = n1[0]\n",
    "    else:\n",
    "        C = n1[0]\n",
    "        F = n1[1]\n",
    "\n",
    "    # now find 2 (has a C) and 5 (has a F)\n",
    "    for j in x5:\n",
    "        if (not n3 in ins[j]) and (C in ins[j]):\n",
    "            n2 = ins[j]\n",
    "        if (not n3 in ins[j]) and (F in ins[j]):\n",
    "            n5 = ins[j]\n",
    "\n",
    "    soln = [n0, n1, n2, n3, n4, n5, n6, n7, n8, n9]\n",
    "    return soln\n",
    "\n",
    "\n",
    "def APPLYIT(output, soln):\n",
    "    # out = pd.Series(df['output'].str.strip()[0].split(' '))\n",
    "    NUMS = np.arange(10)\n",
    "    VALUES = ''\n",
    "    # step thru each output entry\n",
    "    for j in range(len(output)):\n",
    "        prob = np.ones(len(soln), dtype=bool)\n",
    "        entry = output[j]\n",
    "        prob = prob * pd.Series(soln).str.len().values == len(entry)\n",
    "        for k in range(len(entry)): # len of the entry\n",
    "            prob = prob * pd.Series(soln).str.contains(entry[k]).values\n",
    "        VALUES = VALUES + str(NUMS[prob][0])\n",
    "    return int(VALUES)"
   ]
  },
  {
   "cell_type": "code",
   "execution_count": 259,
   "id": "2fd16028",
   "metadata": {},
   "outputs": [
    {
     "data": {
      "text/plain": [
       "5353"
      ]
     },
     "execution_count": 259,
     "metadata": {},
     "output_type": "execute_result"
    }
   ],
   "source": [
    "soln = SOLVEIT(df['input'].str.strip()[0].split(' '))\n",
    "APPLYIT(df['output'].str.strip()[0].split(' '), soln)"
   ]
  },
  {
   "cell_type": "code",
   "execution_count": 262,
   "id": "db902c53",
   "metadata": {},
   "outputs": [],
   "source": [
    "df = pd.read_table('input.txt', delimiter='|', names=['input', 'output'])\n",
    "bigout = np.zeros(len(df))\n",
    "for i in range(len(df)):\n",
    "    soln = SOLVEIT(df['input'].str.strip()[i].split(' '))\n",
    "    bigout[i] = APPLYIT(df['output'].str.strip()[i].split(' '), soln)"
   ]
  },
  {
   "cell_type": "code",
   "execution_count": 263,
   "id": "7c816b32",
   "metadata": {},
   "outputs": [
    {
     "data": {
      "text/plain": [
       "array([5634., 1020., 5426., 3339., 7637., 9451., 5194., 5112., 8427.,\n",
       "       5668., 9378., 9876., 8387., 1975., 6645., 2814., 7846., 8450.,\n",
       "       3348., 6984., 9174., 8016., 6031., 2585., 7638., 3181., 8645.,\n",
       "        370., 9789., 4414., 1771., 1551., 4867., 8078., 4966., 4256.,\n",
       "       1817., 9383., 1342., 4731., 7525.,  696., 1486., 2727., 2987.,\n",
       "       3724., 5417., 7553., 8989., 1489., 6341., 7289., 4007., 6901.,\n",
       "       6444., 7317., 6586., 1026., 4612., 2574., 7221.,  409., 3238.,\n",
       "       3519., 8654.,  687.,  776.,  170., 4462., 5233., 7880., 1256.,\n",
       "       7306., 1041., 4024., 2332., 9820., 4837.,  246., 9410., 4584.,\n",
       "        588., 2453., 7934., 3215., 6594., 6519., 6158., 9180., 9039.,\n",
       "       9711., 3785., 5054., 3055., 6051., 1473., 2064., 9938., 7506.,\n",
       "       7251., 4317., 3467., 9773., 1239., 1317., 8027., 1650., 6849.,\n",
       "       5706., 9965., 1921., 2789., 6154., 1912., 4967., 1844., 3255.,\n",
       "       5478., 2949., 3623., 2645., 5748., 4884., 9747., 4932., 6774.,\n",
       "       6103., 1507., 3693., 9826., 7620., 4198., 5597., 6930., 8194.,\n",
       "       8474., 2003., 4034., 2334., 6513., 8572., 4075., 3710., 3938.,\n",
       "       4861., 8683.,  619.,   62.,  135., 2819., 4411., 1471., 7600.,\n",
       "       1203., 6867., 7302., 4200., 4264., 4127., 7802., 7774., 4045.,\n",
       "       7658., 2131., 1802., 5213., 5739., 4144., 6866., 7457., 4079.,\n",
       "       1893., 5581., 9974., 9020., 3453., 1422., 1175., 2860.,  494.,\n",
       "        448.,  177., 3544., 1949., 6084., 8886., 2412., 4070.,  219.,\n",
       "       5143., 4853., 5679., 4786., 4433., 6231., 6248.,  555., 4139.,\n",
       "       6827., 3791.])"
      ]
     },
     "execution_count": 263,
     "metadata": {},
     "output_type": "execute_result"
    }
   ],
   "source": [
    "bigout"
   ]
  },
  {
   "cell_type": "code",
   "execution_count": 264,
   "id": "f94baaee",
   "metadata": {},
   "outputs": [
    {
     "data": {
      "text/plain": [
       "974512.0"
      ]
     },
     "execution_count": 264,
     "metadata": {},
     "output_type": "execute_result"
    }
   ],
   "source": [
    "np.sum(bigout)"
   ]
  },
  {
   "cell_type": "code",
   "execution_count": null,
   "id": "18fa1ca3",
   "metadata": {},
   "outputs": [],
   "source": []
  }
 ],
 "metadata": {
  "kernelspec": {
   "display_name": "Python 3",
   "language": "python",
   "name": "python3"
  },
  "language_info": {
   "codemirror_mode": {
    "name": "ipython",
    "version": 3
   },
   "file_extension": ".py",
   "mimetype": "text/x-python",
   "name": "python",
   "nbconvert_exporter": "python",
   "pygments_lexer": "ipython3",
   "version": "3.8.5"
  }
 },
 "nbformat": 4,
 "nbformat_minor": 5
}
