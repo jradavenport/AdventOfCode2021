{
 "cells": [
  {
   "cell_type": "code",
   "execution_count": 1,
   "id": "43d6feb3",
   "metadata": {},
   "outputs": [],
   "source": [
    "%matplotlib notebook\n",
    "import numpy as np\n",
    "import matplotlib.pyplot as plt\n",
    "import pandas as pd"
   ]
  },
  {
   "cell_type": "code",
   "execution_count": 2,
   "id": "5d4e6114",
   "metadata": {},
   "outputs": [],
   "source": [
    "# import matplotlib\n",
    "# matplotlib.rcParams.update({'font.size':18})\n",
    "# matplotlib.rcParams.update({'font.family':'serif'})\n",
    "\n",
    "# https://github.com/dhaitz/mplcyberpunk\n",
    "import mplcyberpunk\n",
    "plt.style.use(\"cyberpunk\")"
   ]
  },
  {
   "cell_type": "code",
   "execution_count": 14,
   "id": "4ced2623",
   "metadata": {},
   "outputs": [
    {
     "data": {
      "text/html": [
       "<div>\n",
       "<style scoped>\n",
       "    .dataframe tbody tr th:only-of-type {\n",
       "        vertical-align: middle;\n",
       "    }\n",
       "\n",
       "    .dataframe tbody tr th {\n",
       "        vertical-align: top;\n",
       "    }\n",
       "\n",
       "    .dataframe thead th {\n",
       "        text-align: right;\n",
       "    }\n",
       "</style>\n",
       "<table border=\"1\" class=\"dataframe\">\n",
       "  <thead>\n",
       "    <tr style=\"text-align: right;\">\n",
       "      <th></th>\n",
       "      <th>direction</th>\n",
       "      <th>dist</th>\n",
       "    </tr>\n",
       "  </thead>\n",
       "  <tbody>\n",
       "    <tr>\n",
       "      <th>0</th>\n",
       "      <td>forward</td>\n",
       "      <td>9</td>\n",
       "    </tr>\n",
       "    <tr>\n",
       "      <th>1</th>\n",
       "      <td>forward</td>\n",
       "      <td>9</td>\n",
       "    </tr>\n",
       "    <tr>\n",
       "      <th>2</th>\n",
       "      <td>forward</td>\n",
       "      <td>3</td>\n",
       "    </tr>\n",
       "    <tr>\n",
       "      <th>3</th>\n",
       "      <td>down</td>\n",
       "      <td>2</td>\n",
       "    </tr>\n",
       "    <tr>\n",
       "      <th>4</th>\n",
       "      <td>forward</td>\n",
       "      <td>8</td>\n",
       "    </tr>\n",
       "    <tr>\n",
       "      <th>...</th>\n",
       "      <td>...</td>\n",
       "      <td>...</td>\n",
       "    </tr>\n",
       "    <tr>\n",
       "      <th>995</th>\n",
       "      <td>up</td>\n",
       "      <td>8</td>\n",
       "    </tr>\n",
       "    <tr>\n",
       "      <th>996</th>\n",
       "      <td>forward</td>\n",
       "      <td>6</td>\n",
       "    </tr>\n",
       "    <tr>\n",
       "      <th>997</th>\n",
       "      <td>down</td>\n",
       "      <td>9</td>\n",
       "    </tr>\n",
       "    <tr>\n",
       "      <th>998</th>\n",
       "      <td>forward</td>\n",
       "      <td>2</td>\n",
       "    </tr>\n",
       "    <tr>\n",
       "      <th>999</th>\n",
       "      <td>forward</td>\n",
       "      <td>6</td>\n",
       "    </tr>\n",
       "  </tbody>\n",
       "</table>\n",
       "<p>1000 rows × 2 columns</p>\n",
       "</div>"
      ],
      "text/plain": [
       "    direction  dist\n",
       "0     forward     9\n",
       "1     forward     9\n",
       "2     forward     3\n",
       "3        down     2\n",
       "4     forward     8\n",
       "..        ...   ...\n",
       "995        up     8\n",
       "996   forward     6\n",
       "997      down     9\n",
       "998   forward     2\n",
       "999   forward     6\n",
       "\n",
       "[1000 rows x 2 columns]"
      ]
     },
     "execution_count": 14,
     "metadata": {},
     "output_type": "execute_result"
    }
   ],
   "source": [
    "file = 'input.txt'\n",
    "df = pd.read_table(file, names=['direction','dist'], delim_whitespace=True)\n",
    "df"
   ]
  },
  {
   "cell_type": "code",
   "execution_count": 7,
   "id": "e3a8360f",
   "metadata": {},
   "outputs": [
    {
     "data": {
      "text/plain": [
       "array(['forward', 'down', 'up'], dtype=object)"
      ]
     },
     "execution_count": 7,
     "metadata": {},
     "output_type": "execute_result"
    }
   ],
   "source": [
    "df['direction'].unique()"
   ]
  },
  {
   "cell_type": "markdown",
   "id": "6b6b30a5",
   "metadata": {},
   "source": [
    "## Puzzle 1"
   ]
  },
  {
   "cell_type": "code",
   "execution_count": 13,
   "id": "9595f586",
   "metadata": {},
   "outputs": [],
   "source": [
    "signY = np.ones(len(df))\n",
    "\n",
    "signY[df['direction'] == 'up'] = -1.\n",
    "\n",
    "XX = df['direction'] == 'forward'\n",
    "YY = (df['direction'] == 'up') | (df['direction'] == 'down')"
   ]
  },
  {
   "cell_type": "code",
   "execution_count": 18,
   "id": "a0c85201",
   "metadata": {},
   "outputs": [
    {
     "name": "stdout",
     "output_type": "stream",
     "text": [
      "2083\n",
      "955.0\n"
     ]
    }
   ],
   "source": [
    "Xpos = sum(df['dist'][XX])\n",
    "print(Xpos)\n",
    "\n",
    "Ypos = sum(df['dist'][YY] * signY[YY])\n",
    "print(Ypos) # this is the depth in part 1"
   ]
  },
  {
   "cell_type": "code",
   "execution_count": 20,
   "id": "cdb4d348",
   "metadata": {},
   "outputs": [
    {
     "data": {
      "text/plain": [
       "1989265"
      ]
     },
     "execution_count": 20,
     "metadata": {},
     "output_type": "execute_result"
    }
   ],
   "source": [
    "int(Ypos * Xpos)"
   ]
  },
  {
   "cell_type": "markdown",
   "id": "eb3d231b",
   "metadata": {},
   "source": [
    "## Puzzle 2"
   ]
  },
  {
   "cell_type": "code",
   "execution_count": 23,
   "id": "809080ab",
   "metadata": {},
   "outputs": [
    {
     "name": "stdout",
     "output_type": "stream",
     "text": [
      "2083 955 1002964\n",
      "2089174012\n"
     ]
    }
   ],
   "source": [
    "# aim = np.zeros(len(df))\n",
    "# depth = np.zeros(len(df))\n",
    "# Xpos = np.zeros(len(df))\n",
    "\n",
    "Xpos = 0\n",
    "aim = 0\n",
    "depth = 0\n",
    "\n",
    "\n",
    "# let's do this as a brute force loop, implementing the rules as needed\n",
    "for k in range(len(df)):\n",
    "    if df['direction'].values[k] == 'forward':\n",
    "        Xpos = Xpos + df['dist'].values[k]\n",
    "        depth = depth + (df['dist'].values[k] * aim)\n",
    "    if df['direction'].values[k] == 'up':\n",
    "        aim = aim - df['dist'].values[k]\n",
    "    if df['direction'].values[k] == 'down':\n",
    "        aim = aim + df['dist'].values[k]\n",
    "\n",
    "print(Xpos, aim, depth)\n",
    "\n",
    "print(Xpos * depth)\n",
    "        \n",
    "# down X increases your aim by X units.\n",
    "# up X decreases your aim by X units.\n",
    "# forward X does two things:\n",
    "# It increases your horizontal position by X units.\n",
    "# It increases your depth by your aim multiplied by X.\n"
   ]
  },
  {
   "cell_type": "code",
   "execution_count": null,
   "id": "35a2c28c",
   "metadata": {},
   "outputs": [],
   "source": []
  },
  {
   "cell_type": "code",
   "execution_count": null,
   "id": "df634b4b",
   "metadata": {},
   "outputs": [],
   "source": []
  },
  {
   "cell_type": "code",
   "execution_count": null,
   "id": "c3a66e15",
   "metadata": {},
   "outputs": [],
   "source": []
  },
  {
   "cell_type": "code",
   "execution_count": null,
   "id": "61fddf06",
   "metadata": {},
   "outputs": [],
   "source": []
  }
 ],
 "metadata": {
  "kernelspec": {
   "display_name": "Python 3",
   "language": "python",
   "name": "python3"
  },
  "language_info": {
   "codemirror_mode": {
    "name": "ipython",
    "version": 3
   },
   "file_extension": ".py",
   "mimetype": "text/x-python",
   "name": "python",
   "nbconvert_exporter": "python",
   "pygments_lexer": "ipython3",
   "version": "3.8.5"
  }
 },
 "nbformat": 4,
 "nbformat_minor": 5
}
