{
 "cells": [
  {
   "cell_type": "code",
   "execution_count": 1,
   "id": "43d6feb3",
   "metadata": {},
   "outputs": [],
   "source": [
    "%matplotlib notebook\n",
    "import numpy as np\n",
    "import matplotlib.pyplot as plt\n",
    "import pandas as pd"
   ]
  },
  {
   "cell_type": "code",
   "execution_count": 2,
   "id": "5d4e6114",
   "metadata": {},
   "outputs": [],
   "source": [
    "# import matplotlib\n",
    "# matplotlib.rcParams.update({'font.size':18})\n",
    "# matplotlib.rcParams.update({'font.family':'serif'})\n",
    "\n",
    "# https://github.com/dhaitz/mplcyberpunk\n",
    "import mplcyberpunk\n",
    "plt.style.use(\"cyberpunk\")"
   ]
  },
  {
   "cell_type": "code",
   "execution_count": 5,
   "id": "4ced2623",
   "metadata": {},
   "outputs": [],
   "source": [
    "file = 'input.txt'\n",
    "df = pd.read_table(file, names=['depth'])"
   ]
  },
  {
   "cell_type": "markdown",
   "id": "6b6b30a5",
   "metadata": {},
   "source": [
    "Puzzle 1"
   ]
  },
  {
   "cell_type": "code",
   "execution_count": 10,
   "id": "9595f586",
   "metadata": {},
   "outputs": [
    {
     "data": {
      "text/plain": [
       "1557"
      ]
     },
     "execution_count": 10,
     "metadata": {},
     "output_type": "execute_result"
    }
   ],
   "source": [
    "sum(np.diff(df['depth'].values) > 0)"
   ]
  },
  {
   "cell_type": "markdown",
   "id": "eb3d231b",
   "metadata": {},
   "source": [
    "Puzzle 2"
   ]
  },
  {
   "cell_type": "code",
   "execution_count": 16,
   "id": "809080ab",
   "metadata": {},
   "outputs": [
    {
     "data": {
      "text/plain": [
       "1608"
      ]
     },
     "execution_count": 16,
     "metadata": {},
     "output_type": "execute_result"
    }
   ],
   "source": [
    "sum(np.diff(df['depth'].rolling(3, center=False).sum()) > 0)"
   ]
  },
  {
   "cell_type": "code",
   "execution_count": null,
   "id": "61fddf06",
   "metadata": {},
   "outputs": [],
   "source": []
  }
 ],
 "metadata": {
  "kernelspec": {
   "display_name": "Python 3",
   "language": "python",
   "name": "python3"
  },
  "language_info": {
   "codemirror_mode": {
    "name": "ipython",
    "version": 3
   },
   "file_extension": ".py",
   "mimetype": "text/x-python",
   "name": "python",
   "nbconvert_exporter": "python",
   "pygments_lexer": "ipython3",
   "version": "3.8.5"
  }
 },
 "nbformat": 4,
 "nbformat_minor": 5
}
