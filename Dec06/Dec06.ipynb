{
 "cells": [
  {
   "cell_type": "code",
   "execution_count": 2,
   "id": "43d6feb3",
   "metadata": {},
   "outputs": [],
   "source": [
    "%matplotlib notebook\n",
    "import numpy as np\n",
    "import matplotlib.pyplot as plt\n",
    "import pandas as pd\n",
    "from scipy import stats"
   ]
  },
  {
   "cell_type": "code",
   "execution_count": 3,
   "id": "5d4e6114",
   "metadata": {},
   "outputs": [],
   "source": [
    "# import matplotlib\n",
    "# matplotlib.rcParams.update({'font.size':18})\n",
    "# matplotlib.rcParams.update({'font.family':'serif'})\n",
    "\n",
    "# https://github.com/dhaitz/mplcyberpunk\n",
    "import mplcyberpunk\n",
    "plt.style.use(\"cyberpunk\")"
   ]
  },
  {
   "cell_type": "markdown",
   "id": "6b6b30a5",
   "metadata": {},
   "source": [
    "## Puzzle 1"
   ]
  },
  {
   "cell_type": "code",
   "execution_count": null,
   "id": "0fcd918f",
   "metadata": {},
   "outputs": [],
   "source": []
  },
  {
   "cell_type": "code",
   "execution_count": 72,
   "id": "feff5f96",
   "metadata": {},
   "outputs": [
    {
     "name": "stdout",
     "output_type": "stream",
     "text": [
      "1 [2 3 2 0 1] 5\n",
      "2 [1. 2. 1. 6. 0. 8.] 6\n",
      "3 [0. 1. 0. 5. 6. 7. 8.] 7\n",
      "4 [6. 0. 6. 4. 5. 6. 7. 8. 8.] 9\n",
      "5 [5. 6. 5. 3. 4. 5. 6. 7. 7. 8.] 10\n",
      "6 [4. 5. 4. 2. 3. 4. 5. 6. 6. 7.] 10\n",
      "7 [3. 4. 3. 1. 2. 3. 4. 5. 5. 6.] 10\n",
      "8 [2. 3. 2. 0. 1. 2. 3. 4. 4. 5.] 10\n",
      "9 [1. 2. 1. 6. 0. 1. 2. 3. 3. 4. 8.] 11\n",
      "10 [0. 1. 0. 5. 6. 0. 1. 2. 2. 3. 7. 8.] 12\n",
      "11 [6. 0. 6. 4. 5. 6. 0. 1. 1. 2. 6. 7. 8. 8. 8.] 15\n",
      "12 [5. 6. 5. 3. 4. 5. 6. 0. 0. 1. 5. 6. 7. 7. 7. 8. 8.] 17\n",
      "13 [4. 5. 4. 2. 3. 4. 5. 6. 6. 0. 4. 5. 6. 6. 6. 7. 7. 8. 8.] 19\n",
      "14 [3. 4. 3. 1. 2. 3. 4. 5. 5. 6. 3. 4. 5. 5. 5. 6. 6. 7. 7. 8.] 20\n",
      "15 [2. 3. 2. 0. 1. 2. 3. 4. 4. 5. 2. 3. 4. 4. 4. 5. 5. 6. 6. 7.] 20\n",
      "16 [1. 2. 1. 6. 0. 1. 2. 3. 3. 4. 1. 2. 3. 3. 3. 4. 4. 5. 5. 6. 8.] 21\n",
      "17 [0. 1. 0. 5. 6. 0. 1. 2. 2. 3. 0. 1. 2. 2. 2. 3. 3. 4. 4. 5. 7. 8.] 22\n",
      "18 [6. 0. 6. 4. 5. 6. 0. 1. 1. 2. 6. 0. 1. 1. 1. 2. 2. 3. 3. 4. 6. 7. 8. 8.\n",
      " 8. 8.] 26\n",
      "26\n"
     ]
    }
   ],
   "source": [
    "test = np.array([3,4,3,1,2])\n",
    "\n",
    "ndays = 18\n",
    "\n",
    "for k in range(ndays):\n",
    "    test -= 1\n",
    "    # conditions to catch:\n",
    "    # 0->6 + a new fish set to 8\n",
    "    if sum(test == -1) > 0:\n",
    "        nnew = sum(test == -1)\n",
    "        test[test == -1] = 6\n",
    "        test = np.append(test, np.ones(nnew)*8)\n",
    "            \n",
    "    print(k+1, test, len(test))\n",
    "\n",
    "print(len(test))"
   ]
  },
  {
   "cell_type": "code",
   "execution_count": 24,
   "id": "7a2d196e",
   "metadata": {},
   "outputs": [
    {
     "name": "stdout",
     "output_type": "stream",
     "text": [
      "300\n"
     ]
    }
   ],
   "source": [
    "data = [1,2,4,5,5,5,2,1,3,1,4,3,2,1,5,5,1,2,3,4,4,1,2,3,2,1,4,4,1,5,5,1,3,4,4,4,1,2,2,5,1,5,5,3,2,3,1,1,3,5,\n",
    "        1,1,2,4,2,3,1,1,2,1,3,1,2,1,1,2,1,2,2,1,1,1,1,5,4,5,2,1,3,2,4,1,1,3,4,1,4,1,5,1,4,1,5,3,2,3,2,2,4,4,\n",
    "        3,3,4,3,4,4,3,4,5,1,2,5,2,1,5,5,1,3,4,2,2,4,2,2,1,3,2,5,5,1,3,3,4,3,5,3,5,5,4,5,1,1,4,1,4,5,1,1,1,4,\n",
    "        1,1,4,2,1,4,1,3,4,4,3,1,2,2,4,3,3,2,2,2,3,5,5,2,3,1,5,1,1,1,1,3,1,4,1,4,1,2,5,3,2,4,4,1,3,1,1,1,3,4,\n",
    "        4,1,1,2,1,4,3,4,2,2,3,2,4,3,1,5,1,3,1,4,5,5,3,5,1,3,5,5,4,2,3,2,4,1,3,2,2,2,1,3,4,2,5,2,5,3,5,5,1,1,\n",
    "        1,2,2,3,1,4,4,4,5,4,5,5,1,4,5,5,4,1,1,5,3,3,1,4,1,3,1,1,4,1,5,2,3,2,3,1,2,2,2,1,1,5,1,4,5,2,4,2,2,3]\n",
    "print(len(data))\n",
    "data = np.array(data, dtype=int)"
   ]
  },
  {
   "cell_type": "code",
   "execution_count": null,
   "id": "de25e5af",
   "metadata": {},
   "outputs": [],
   "source": [
    "ndays = 80\n",
    "\n",
    "pop = np.zeros(ndays, dtype=int)\n",
    "\n",
    "for k in range(ndays):\n",
    "    data -= 1\n",
    "    # conditions to catch:\n",
    "    # 0->6 + a new fish set to 8\n",
    "    if sum(data == -1) > 0:\n",
    "        nnew = sum(data == -1)\n",
    "        data[data == -1] = 6\n",
    "        data = np.append(data, np.ones(nnew)*8)\n",
    "    pop[k] = len(data)"
   ]
  },
  {
   "cell_type": "code",
   "execution_count": 26,
   "id": "0b4ff130",
   "metadata": {},
   "outputs": [
    {
     "name": "stdout",
     "output_type": "stream",
     "text": [
      "352872 352872\n"
     ]
    }
   ],
   "source": [
    "print(len(data), pop[-1])"
   ]
  },
  {
   "cell_type": "code",
   "execution_count": 71,
   "id": "830f1693",
   "metadata": {},
   "outputs": [],
   "source": [
    "# plt.plot(pop)"
   ]
  },
  {
   "cell_type": "markdown",
   "id": "eb3d231b",
   "metadata": {},
   "source": [
    "## Puzzle 2"
   ]
  },
  {
   "cell_type": "code",
   "execution_count": 83,
   "id": "d59b5094",
   "metadata": {},
   "outputs": [
    {
     "name": "stdout",
     "output_type": "stream",
     "text": [
      "1604361182149\n"
     ]
    }
   ],
   "source": [
    "# now try for 256 days... we can try brute force, but the array might get crushingly large\n",
    "# it only made it about half way before i killed it...\n",
    "# lets try something smarter\n",
    "data = [1,2,4,5,5,5,2,1,3,1,4,3,2,1,5,5,1,2,3,4,4,1,2,3,2,1,4,4,1,5,5,1,3,4,4,4,1,2,2,5,1,5,5,3,2,3,1,1,3,5,\n",
    "        1,1,2,4,2,3,1,1,2,1,3,1,2,1,1,2,1,2,2,1,1,1,1,5,4,5,2,1,3,2,4,1,1,3,4,1,4,1,5,1,4,1,5,3,2,3,2,2,4,4,\n",
    "        3,3,4,3,4,4,3,4,5,1,2,5,2,1,5,5,1,3,4,2,2,4,2,2,1,3,2,5,5,1,3,3,4,3,5,3,5,5,4,5,1,1,4,1,4,5,1,1,1,4,\n",
    "        1,1,4,2,1,4,1,3,4,4,3,1,2,2,4,3,3,2,2,2,3,5,5,2,3,1,5,1,1,1,1,3,1,4,1,4,1,2,5,3,2,4,4,1,3,1,1,1,3,4,\n",
    "        4,1,1,2,1,4,3,4,2,2,3,2,4,3,1,5,1,3,1,4,5,5,3,5,1,3,5,5,4,2,3,2,4,1,3,2,2,2,1,3,4,2,5,2,5,3,5,5,1,1,\n",
    "        1,2,2,3,1,4,4,4,5,4,5,5,1,4,5,5,4,1,1,5,3,3,1,4,1,3,1,1,4,1,5,2,3,2,3,1,2,2,2,1,1,5,1,4,5,2,4,2,2,3]\n",
    "\n",
    "# test = np.array([3,4,3,1,2])\n",
    "# data = test\n",
    "\n",
    "data = np.array(data, dtype=int)\n",
    "\n",
    "ndays = 256\n",
    "# pop = np.zeros(ndays, dtype=int) # for plotting\n",
    "# states = np.arange(0,10,1) # there are 9 possible states (0-8)\n",
    "# nfish = np.zeros_like(states) # here is how many fish are in each state at present\n",
    "nfish, _ = np.histogram(data, range=[0,9],bins=9)\n",
    "\n",
    "\n",
    "for k in range(ndays):\n",
    "    swap = nfish.copy()\n",
    "    nfish[0:-1] = swap[1:]\n",
    "    nfish[6] += swap.copy()[0]\n",
    "    nfish[8] = swap.copy()[0]\n",
    "#     print(k+1, nfish, sum(nfish))\n",
    "\n",
    "print(sum(nfish))"
   ]
  },
  {
   "cell_type": "code",
   "execution_count": null,
   "id": "67441fae",
   "metadata": {},
   "outputs": [],
   "source": []
  },
  {
   "cell_type": "code",
   "execution_count": null,
   "id": "383d0499",
   "metadata": {},
   "outputs": [],
   "source": []
  }
 ],
 "metadata": {
  "kernelspec": {
   "display_name": "Python 3",
   "language": "python",
   "name": "python3"
  },
  "language_info": {
   "codemirror_mode": {
    "name": "ipython",
    "version": 3
   },
   "file_extension": ".py",
   "mimetype": "text/x-python",
   "name": "python",
   "nbconvert_exporter": "python",
   "pygments_lexer": "ipython3",
   "version": "3.8.5"
  }
 },
 "nbformat": 4,
 "nbformat_minor": 5
}
