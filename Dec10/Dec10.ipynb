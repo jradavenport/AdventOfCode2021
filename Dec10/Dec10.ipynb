{
 "cells": [
  {
   "cell_type": "code",
   "execution_count": 1,
   "id": "43d6feb3",
   "metadata": {},
   "outputs": [],
   "source": [
    "%matplotlib notebook\n",
    "import numpy as np\n",
    "import matplotlib.pyplot as plt\n",
    "import pandas as pd\n",
    "from scipy import stats"
   ]
  },
  {
   "cell_type": "code",
   "execution_count": 2,
   "id": "5d4e6114",
   "metadata": {},
   "outputs": [],
   "source": [
    "# import matplotlib\n",
    "# matplotlib.rcParams.update({'font.size':18})\n",
    "# matplotlib.rcParams.update({'font.family':'serif'})\n",
    "\n",
    "# https://github.com/dhaitz/mplcyberpunk\n",
    "import mplcyberpunk\n",
    "plt.style.use(\"cyberpunk\")"
   ]
  },
  {
   "cell_type": "markdown",
   "id": "6b6b30a5",
   "metadata": {},
   "source": [
    "## Puzzle 1"
   ]
  },
  {
   "cell_type": "code",
   "execution_count": 43,
   "id": "3e564792",
   "metadata": {},
   "outputs": [
    {
     "data": {
      "text/plain": [
       "'[(<[(({{<{{[{({})}{<{}{}><()<>>}]}[{[({}{})]([{}()](<>{}))}[<<[]()]>[<[]<>>{[]()}]]]}{[[[{[][]}{[]()}]'"
      ]
     },
     "execution_count": 43,
     "metadata": {},
     "output_type": "execute_result"
    }
   ],
   "source": [
    "# data = np.loadtxt('test.txt', dtype=str)\n",
    "data = np.loadtxt('input.txt', dtype=str)\n",
    "data[0]"
   ]
  },
  {
   "cell_type": "code",
   "execution_count": 45,
   "id": "5f445661",
   "metadata": {},
   "outputs": [
    {
     "data": {
      "text/plain": [
       "102"
      ]
     },
     "execution_count": 45,
     "metadata": {},
     "output_type": "execute_result"
    }
   ],
   "source": [
    "len(data)"
   ]
  },
  {
   "cell_type": "code",
   "execution_count": 44,
   "id": "954c3903",
   "metadata": {},
   "outputs": [
    {
     "name": "stdout",
     "output_type": "stream",
     "text": [
      "271245\n"
     ]
    }
   ],
   "source": [
    "def checkbad(data):\n",
    "    bad = []\n",
    "    stack = []\n",
    "    for k in range(len(data)):\n",
    "        if data[k] in '<{([':\n",
    "            stack.append(data[k])\n",
    "        else:\n",
    "            # https://www.geeksforgeeks.org/check-for-balanced-parentheses-in-python/\n",
    "            if (((data[k] == ')') & (stack[-1] == '(')) | \n",
    "                ((data[k] == '}') & (stack[-1] == '{')) | \n",
    "                ((data[k] == ']') & (stack[-1] == '[')) | \n",
    "                ((data[k] == '>') & (stack[-1] == '<'))):\n",
    "                stack.pop()\n",
    "            else:\n",
    "                return data[k]\n",
    "#                 bad.append(data[k])\n",
    "#     if len(bad) > 1:\n",
    "#         bad = bad[0]\n",
    "    return bad\n",
    "\n",
    "# try all the lines\n",
    "score = 0\n",
    "for i in range(len(data)):\n",
    "    badtest = checkbad(data[i])\n",
    "    if len(badtest) > 0:\n",
    "        if badtest == ')':\n",
    "            score += 3\n",
    "        if badtest == ']':\n",
    "            score += 57\n",
    "        if badtest == '}':\n",
    "            score += 1197\n",
    "        if badtest == '>':\n",
    "            score += 25137\n",
    "\n",
    "print(score)"
   ]
  },
  {
   "cell_type": "code",
   "execution_count": null,
   "id": "210be66c",
   "metadata": {},
   "outputs": [],
   "source": []
  },
  {
   "cell_type": "code",
   "execution_count": null,
   "id": "0003e1bb",
   "metadata": {},
   "outputs": [],
   "source": []
  },
  {
   "cell_type": "markdown",
   "id": "eb3d231b",
   "metadata": {},
   "source": [
    "## Puzzle 2"
   ]
  },
  {
   "cell_type": "code",
   "execution_count": 72,
   "id": "18fa1ca3",
   "metadata": {},
   "outputs": [
    {
     "data": {
      "text/plain": [
       "'[(<[(({{<{{[{({})}{<{}{}><()<>>}]}[{[({}{})]([{}()](<>{}))}[<<[]()]>[<[]<>>{[]()}]]]}{[[[{[][]}{[]()}]'"
      ]
     },
     "execution_count": 72,
     "metadata": {},
     "output_type": "execute_result"
    }
   ],
   "source": [
    "# data = np.loadtxt('test.txt', dtype=str)\n",
    "data = np.loadtxt('input.txt', dtype=str)\n",
    "data[0]"
   ]
  },
  {
   "cell_type": "code",
   "execution_count": 73,
   "id": "8f29fb21",
   "metadata": {},
   "outputs": [
    {
     "data": {
      "text/plain": [
       "1685293086"
      ]
     },
     "execution_count": 73,
     "metadata": {},
     "output_type": "execute_result"
    }
   ],
   "source": [
    "def checkbad2(data):\n",
    "    bad = []\n",
    "    stack = []\n",
    "    for k in range(len(data)):\n",
    "        if data[k] in '<{([':\n",
    "            stack.append(data[k])\n",
    "        else:\n",
    "            # https://www.geeksforgeeks.org/check-for-balanced-parentheses-in-python/\n",
    "            if (((data[k] == ')') & (stack[-1] == '(')) | \n",
    "                ((data[k] == '}') & (stack[-1] == '{')) | \n",
    "                ((data[k] == ']') & (stack[-1] == '[')) | \n",
    "                ((data[k] == '>') & (stack[-1] == '<'))):\n",
    "                stack.pop()\n",
    "            else:\n",
    "                bad.append(data[k])\n",
    "    return stack, bad\n",
    "\n",
    "# score all the lines\n",
    "score = np.zeros(len(data), dtype=int)\n",
    "for i in range(len(data)):\n",
    "    resid, bad = checkbad2(data[i])\n",
    "    if len(bad) < 1:\n",
    "#     print(resid)\n",
    "        for j in resid[::-1]:\n",
    "            if j == '(':\n",
    "                mx = 1\n",
    "            if j == '[':\n",
    "                mx = 2\n",
    "            if j == '{':\n",
    "                mx = 3\n",
    "            if j == '<':\n",
    "                mx = 4\n",
    "            score[i] = (score[i]*5) + mx\n",
    "\n",
    "\n",
    "int(np.median(score[score > 0]))"
   ]
  },
  {
   "cell_type": "code",
   "execution_count": null,
   "id": "a34efffc",
   "metadata": {},
   "outputs": [],
   "source": []
  }
 ],
 "metadata": {
  "kernelspec": {
   "display_name": "Python 3",
   "language": "python",
   "name": "python3"
  },
  "language_info": {
   "codemirror_mode": {
    "name": "ipython",
    "version": 3
   },
   "file_extension": ".py",
   "mimetype": "text/x-python",
   "name": "python",
   "nbconvert_exporter": "python",
   "pygments_lexer": "ipython3",
   "version": "3.8.5"
  }
 },
 "nbformat": 4,
 "nbformat_minor": 5
}
